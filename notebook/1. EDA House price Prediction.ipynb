{
 "cells": [
  {
   "cell_type": "code",
   "execution_count": 1,
   "id": "74436958",
   "metadata": {},
   "outputs": [],
   "source": [
    "import numpy as np\n",
    "import pandas as pd\n",
    "import seaborn as sns\n",
    "import matplotlib.pyplot as plt\n",
    "%matplotlib inline\n",
    "import warnings\n",
    "warnings.filterwarnings('ignore')"
   ]
  },
  {
   "cell_type": "code",
   "execution_count": 2,
   "id": "c9e264e5",
   "metadata": {},
   "outputs": [],
   "source": [
    "df = pd.read_csv('data/houses.csv')"
   ]
  },
  {
   "cell_type": "code",
   "execution_count": 4,
   "id": "783c95cd",
   "metadata": {},
   "outputs": [
    {
     "data": {
      "text/html": [
       "<div>\n",
       "<style scoped>\n",
       "    .dataframe tbody tr th:only-of-type {\n",
       "        vertical-align: middle;\n",
       "    }\n",
       "\n",
       "    .dataframe tbody tr th {\n",
       "        vertical-align: top;\n",
       "    }\n",
       "\n",
       "    .dataframe thead th {\n",
       "        text-align: right;\n",
       "    }\n",
       "</style>\n",
       "<table border=\"1\" class=\"dataframe\">\n",
       "  <thead>\n",
       "    <tr style=\"text-align: right;\">\n",
       "      <th></th>\n",
       "      <th>property_name</th>\n",
       "      <th>link</th>\n",
       "      <th>society</th>\n",
       "      <th>price</th>\n",
       "      <th>rate</th>\n",
       "      <th>area</th>\n",
       "      <th>areaWithType</th>\n",
       "      <th>bedRoom</th>\n",
       "      <th>bathroom</th>\n",
       "      <th>balcony</th>\n",
       "      <th>...</th>\n",
       "      <th>address</th>\n",
       "      <th>noOfFloor</th>\n",
       "      <th>facing</th>\n",
       "      <th>agePossession</th>\n",
       "      <th>nearbyLocations</th>\n",
       "      <th>description</th>\n",
       "      <th>furnishDetails</th>\n",
       "      <th>features</th>\n",
       "      <th>rating</th>\n",
       "      <th>property_id</th>\n",
       "    </tr>\n",
       "  </thead>\n",
       "  <tbody>\n",
       "    <tr>\n",
       "      <th>0</th>\n",
       "      <td>5 Bedroom House for sale in Sector 70A Gurgaon</td>\n",
       "      <td>https://www.99acres.com/5-bhk-bedroom-independ...</td>\n",
       "      <td>Bptp Visionnaire</td>\n",
       "      <td>5.25 Crore</td>\n",
       "      <td>₹ 20,115/sq.ft.</td>\n",
       "      <td>(242 sq.m.) Plot Area</td>\n",
       "      <td>Plot area 290(242.48 sq.m.)</td>\n",
       "      <td>5 Bedrooms</td>\n",
       "      <td>4 Bathrooms</td>\n",
       "      <td>3+ Balconies</td>\n",
       "      <td>...</td>\n",
       "      <td>29b, Sector 70A Gurgaon, Gurgaon, Haryana</td>\n",
       "      <td>3 Floors</td>\n",
       "      <td>North-East</td>\n",
       "      <td>0 to 1 Year Old</td>\n",
       "      <td>['Good Earth City Center 2', 'Kunskapsskolan I...</td>\n",
       "      <td>Do you wish to buy an independent house in sec...</td>\n",
       "      <td>['1 Wardrobe', '1 Fan', '1 Exhaust Fan', '1 Ge...</td>\n",
       "      <td>['Feng Shui / Vaastu Compliant', 'Private Gard...</td>\n",
       "      <td>['Environment5 out of 5', 'Lifestyle4 out of 5...</td>\n",
       "      <td>K70037724</td>\n",
       "    </tr>\n",
       "    <tr>\n",
       "      <th>1</th>\n",
       "      <td>5 Bedroom House for sale in Sector 21A Faridabad</td>\n",
       "      <td>https://www.99acres.com/5-bhk-bedroom-independ...</td>\n",
       "      <td>NaN</td>\n",
       "      <td>5.7 Crore</td>\n",
       "      <td>₹ 105,751/sq.ft.</td>\n",
       "      <td>(50 sq.m.) Plot Area</td>\n",
       "      <td>Plot area 539(50.07 sq.m.)</td>\n",
       "      <td>5 Bedrooms</td>\n",
       "      <td>4 Bathrooms</td>\n",
       "      <td>2 Balconies</td>\n",
       "      <td>...</td>\n",
       "      <td>Sector 21A Faridabad, Gurgaon, Haryana</td>\n",
       "      <td>2 Floors</td>\n",
       "      <td>NaN</td>\n",
       "      <td>5 to 10 Year Old</td>\n",
       "      <td>NaN</td>\n",
       "      <td>Hi, we have an independent house/villa availab...</td>\n",
       "      <td>['1 Water Purifier', '5 Fan', '1 Exhaust Fan',...</td>\n",
       "      <td>['Private Garden / Terrace', 'Park', 'Visitor ...</td>\n",
       "      <td>NaN</td>\n",
       "      <td>E69288322</td>\n",
       "    </tr>\n",
       "  </tbody>\n",
       "</table>\n",
       "<p>2 rows × 21 columns</p>\n",
       "</div>"
      ],
      "text/plain": [
       "                                      property_name  \\\n",
       "0    5 Bedroom House for sale in Sector 70A Gurgaon   \n",
       "1  5 Bedroom House for sale in Sector 21A Faridabad   \n",
       "\n",
       "                                                link           society  \\\n",
       "0  https://www.99acres.com/5-bhk-bedroom-independ...  Bptp Visionnaire   \n",
       "1  https://www.99acres.com/5-bhk-bedroom-independ...               NaN   \n",
       "\n",
       "        price              rate                   area  \\\n",
       "0  5.25 Crore   ₹ 20,115/sq.ft.  (242 sq.m.) Plot Area   \n",
       "1   5.7 Crore  ₹ 105,751/sq.ft.   (50 sq.m.) Plot Area   \n",
       "\n",
       "                  areaWithType     bedRoom     bathroom       balcony  ...  \\\n",
       "0  Plot area 290(242.48 sq.m.)  5 Bedrooms  4 Bathrooms  3+ Balconies  ...   \n",
       "1   Plot area 539(50.07 sq.m.)  5 Bedrooms  4 Bathrooms   2 Balconies  ...   \n",
       "\n",
       "                                     address noOfFloor      facing  \\\n",
       "0  29b, Sector 70A Gurgaon, Gurgaon, Haryana  3 Floors  North-East   \n",
       "1     Sector 21A Faridabad, Gurgaon, Haryana  2 Floors         NaN   \n",
       "\n",
       "      agePossession                                    nearbyLocations  \\\n",
       "0   0 to 1 Year Old  ['Good Earth City Center 2', 'Kunskapsskolan I...   \n",
       "1  5 to 10 Year Old                                                NaN   \n",
       "\n",
       "                                         description  \\\n",
       "0  Do you wish to buy an independent house in sec...   \n",
       "1  Hi, we have an independent house/villa availab...   \n",
       "\n",
       "                                      furnishDetails  \\\n",
       "0  ['1 Wardrobe', '1 Fan', '1 Exhaust Fan', '1 Ge...   \n",
       "1  ['1 Water Purifier', '5 Fan', '1 Exhaust Fan',...   \n",
       "\n",
       "                                            features  \\\n",
       "0  ['Feng Shui / Vaastu Compliant', 'Private Gard...   \n",
       "1  ['Private Garden / Terrace', 'Park', 'Visitor ...   \n",
       "\n",
       "                                              rating property_id  \n",
       "0  ['Environment5 out of 5', 'Lifestyle4 out of 5...   K70037724  \n",
       "1                                                NaN   E69288322  \n",
       "\n",
       "[2 rows x 21 columns]"
      ]
     },
     "execution_count": 4,
     "metadata": {},
     "output_type": "execute_result"
    }
   ],
   "source": [
    "df.head(2)"
   ]
  },
  {
   "cell_type": "code",
   "execution_count": 5,
   "id": "804dc33a",
   "metadata": {},
   "outputs": [
    {
     "data": {
      "text/plain": [
       "Index(['property_name', 'link', 'society', 'price', 'rate', 'area',\n",
       "       'areaWithType', 'bedRoom', 'bathroom', 'balcony', 'additionalRoom',\n",
       "       'address', 'noOfFloor', 'facing', 'agePossession', 'nearbyLocations',\n",
       "       'description', 'furnishDetails', 'features', 'rating', 'property_id'],\n",
       "      dtype='object')"
      ]
     },
     "execution_count": 5,
     "metadata": {},
     "output_type": "execute_result"
    }
   ],
   "source": [
    "df.columns"
   ]
  },
  {
   "cell_type": "code",
   "execution_count": 6,
   "id": "a367485d",
   "metadata": {},
   "outputs": [
    {
     "name": "stdout",
     "output_type": "stream",
     "text": [
      "<class 'pandas.core.frame.DataFrame'>\n",
      "RangeIndex: 1044 entries, 0 to 1043\n",
      "Data columns (total 21 columns):\n",
      " #   Column           Non-Null Count  Dtype \n",
      "---  ------           --------------  ----- \n",
      " 0   property_name    1044 non-null   object\n",
      " 1   link             1044 non-null   object\n",
      " 2   society          453 non-null    object\n",
      " 3   price            968 non-null    object\n",
      " 4   rate             1005 non-null   object\n",
      " 5   area             1044 non-null   object\n",
      " 6   areaWithType     987 non-null    object\n",
      " 7   bedRoom          987 non-null    object\n",
      " 8   bathroom         987 non-null    object\n",
      " 9   balcony          987 non-null    object\n",
      " 10  additionalRoom   589 non-null    object\n",
      " 11  address          1031 non-null   object\n",
      " 12  noOfFloor        967 non-null    object\n",
      " 13  facing           674 non-null    object\n",
      " 14  agePossession    987 non-null    object\n",
      " 15  nearbyLocations  913 non-null    object\n",
      " 16  description      1036 non-null   object\n",
      " 17  furnishDetails   743 non-null    object\n",
      " 18  features         674 non-null    object\n",
      " 19  rating           907 non-null    object\n",
      " 20  property_id      1036 non-null   object\n",
      "dtypes: object(21)\n",
      "memory usage: 171.4+ KB\n"
     ]
    }
   ],
   "source": [
    "df.info()"
   ]
  },
  {
   "cell_type": "code",
   "execution_count": 7,
   "id": "9961c11f",
   "metadata": {},
   "outputs": [
    {
     "data": {
      "text/plain": [
       "property_name        0\n",
       "link                 0\n",
       "society            591\n",
       "price               76\n",
       "rate                39\n",
       "area                 0\n",
       "areaWithType        57\n",
       "bedRoom             57\n",
       "bathroom            57\n",
       "balcony             57\n",
       "additionalRoom     455\n",
       "address             13\n",
       "noOfFloor           77\n",
       "facing             370\n",
       "agePossession       57\n",
       "nearbyLocations    131\n",
       "description          8\n",
       "furnishDetails     301\n",
       "features           370\n",
       "rating             137\n",
       "property_id          8\n",
       "dtype: int64"
      ]
     },
     "execution_count": 7,
     "metadata": {},
     "output_type": "execute_result"
    }
   ],
   "source": [
    "df.isnull().sum()"
   ]
  },
  {
   "cell_type": "code",
   "execution_count": 8,
   "id": "740d8960",
   "metadata": {},
   "outputs": [
    {
     "data": {
      "text/html": [
       "<div>\n",
       "<style scoped>\n",
       "    .dataframe tbody tr th:only-of-type {\n",
       "        vertical-align: middle;\n",
       "    }\n",
       "\n",
       "    .dataframe tbody tr th {\n",
       "        vertical-align: top;\n",
       "    }\n",
       "\n",
       "    .dataframe thead th {\n",
       "        text-align: right;\n",
       "    }\n",
       "</style>\n",
       "<table border=\"1\" class=\"dataframe\">\n",
       "  <thead>\n",
       "    <tr style=\"text-align: right;\">\n",
       "      <th></th>\n",
       "      <th>property_name</th>\n",
       "      <th>link</th>\n",
       "      <th>society</th>\n",
       "      <th>price</th>\n",
       "      <th>rate</th>\n",
       "      <th>area</th>\n",
       "      <th>areaWithType</th>\n",
       "      <th>bedRoom</th>\n",
       "      <th>bathroom</th>\n",
       "      <th>balcony</th>\n",
       "      <th>...</th>\n",
       "      <th>address</th>\n",
       "      <th>noOfFloor</th>\n",
       "      <th>facing</th>\n",
       "      <th>agePossession</th>\n",
       "      <th>nearbyLocations</th>\n",
       "      <th>description</th>\n",
       "      <th>furnishDetails</th>\n",
       "      <th>features</th>\n",
       "      <th>rating</th>\n",
       "      <th>property_id</th>\n",
       "    </tr>\n",
       "  </thead>\n",
       "  <tbody>\n",
       "    <tr>\n",
       "      <th>0</th>\n",
       "      <td>5 Bedroom House for sale in Sector 70A Gurgaon</td>\n",
       "      <td>https://www.99acres.com/5-bhk-bedroom-independ...</td>\n",
       "      <td>Bptp Visionnaire</td>\n",
       "      <td>5.25 Crore</td>\n",
       "      <td>₹ 20,115/sq.ft.</td>\n",
       "      <td>(242 sq.m.) Plot Area</td>\n",
       "      <td>Plot area 290(242.48 sq.m.)</td>\n",
       "      <td>5 Bedrooms</td>\n",
       "      <td>4 Bathrooms</td>\n",
       "      <td>3+ Balconies</td>\n",
       "      <td>...</td>\n",
       "      <td>29b, Sector 70A Gurgaon, Gurgaon, Haryana</td>\n",
       "      <td>3 Floors</td>\n",
       "      <td>North-East</td>\n",
       "      <td>0 to 1 Year Old</td>\n",
       "      <td>['Good Earth City Center 2', 'Kunskapsskolan I...</td>\n",
       "      <td>Do you wish to buy an independent house in sec...</td>\n",
       "      <td>['1 Wardrobe', '1 Fan', '1 Exhaust Fan', '1 Ge...</td>\n",
       "      <td>['Feng Shui / Vaastu Compliant', 'Private Gard...</td>\n",
       "      <td>['Environment5 out of 5', 'Lifestyle4 out of 5...</td>\n",
       "      <td>K70037724</td>\n",
       "    </tr>\n",
       "    <tr>\n",
       "      <th>1</th>\n",
       "      <td>5 Bedroom House for sale in Sector 21A Faridabad</td>\n",
       "      <td>https://www.99acres.com/5-bhk-bedroom-independ...</td>\n",
       "      <td>NaN</td>\n",
       "      <td>5.7 Crore</td>\n",
       "      <td>₹ 105,751/sq.ft.</td>\n",
       "      <td>(50 sq.m.) Plot Area</td>\n",
       "      <td>Plot area 539(50.07 sq.m.)</td>\n",
       "      <td>5 Bedrooms</td>\n",
       "      <td>4 Bathrooms</td>\n",
       "      <td>2 Balconies</td>\n",
       "      <td>...</td>\n",
       "      <td>Sector 21A Faridabad, Gurgaon, Haryana</td>\n",
       "      <td>2 Floors</td>\n",
       "      <td>NaN</td>\n",
       "      <td>5 to 10 Year Old</td>\n",
       "      <td>NaN</td>\n",
       "      <td>Hi, we have an independent house/villa availab...</td>\n",
       "      <td>['1 Water Purifier', '5 Fan', '1 Exhaust Fan',...</td>\n",
       "      <td>['Private Garden / Terrace', 'Park', 'Visitor ...</td>\n",
       "      <td>NaN</td>\n",
       "      <td>E69288322</td>\n",
       "    </tr>\n",
       "    <tr>\n",
       "      <th>2</th>\n",
       "      <td>10 Bedroom House for sale in Sushant Lok Phase 1</td>\n",
       "      <td>https://www.99acres.com/10-bhk-bedroom-indepen...</td>\n",
       "      <td>NaN</td>\n",
       "      <td>2.1 Crore</td>\n",
       "      <td>₹ 38,251/sq.ft.</td>\n",
       "      <td>(51 sq.m.) Plot Area</td>\n",
       "      <td>Plot area 61(51 sq.m.)</td>\n",
       "      <td>10 Bedrooms</td>\n",
       "      <td>10 Bathrooms</td>\n",
       "      <td>3+ Balconies</td>\n",
       "      <td>...</td>\n",
       "      <td>Sushant Lok Phase 1, Gurgaon, Haryana</td>\n",
       "      <td>5 Floors</td>\n",
       "      <td>West</td>\n",
       "      <td>0 to 1 Year Old</td>\n",
       "      <td>['Sector 42-43 metro station', 'Huda city cent...</td>\n",
       "      <td>Monthly rental income is rs1,40,000/- Best opt...</td>\n",
       "      <td>['10 Bed', '3 Fan', '10 Geyser', '2 Light', 'N...</td>\n",
       "      <td>['Maintenance Staff', 'Water Storage', 'Visito...</td>\n",
       "      <td>['Environment5 out of 5', 'Lifestyle5 out of 5...</td>\n",
       "      <td>F69536898</td>\n",
       "    </tr>\n",
       "  </tbody>\n",
       "</table>\n",
       "<p>3 rows × 21 columns</p>\n",
       "</div>"
      ],
      "text/plain": [
       "                                      property_name  \\\n",
       "0    5 Bedroom House for sale in Sector 70A Gurgaon   \n",
       "1  5 Bedroom House for sale in Sector 21A Faridabad   \n",
       "2  10 Bedroom House for sale in Sushant Lok Phase 1   \n",
       "\n",
       "                                                link           society  \\\n",
       "0  https://www.99acres.com/5-bhk-bedroom-independ...  Bptp Visionnaire   \n",
       "1  https://www.99acres.com/5-bhk-bedroom-independ...               NaN   \n",
       "2  https://www.99acres.com/10-bhk-bedroom-indepen...               NaN   \n",
       "\n",
       "        price              rate                   area  \\\n",
       "0  5.25 Crore   ₹ 20,115/sq.ft.  (242 sq.m.) Plot Area   \n",
       "1   5.7 Crore  ₹ 105,751/sq.ft.   (50 sq.m.) Plot Area   \n",
       "2   2.1 Crore   ₹ 38,251/sq.ft.   (51 sq.m.) Plot Area   \n",
       "\n",
       "                  areaWithType      bedRoom      bathroom       balcony  ...  \\\n",
       "0  Plot area 290(242.48 sq.m.)   5 Bedrooms   4 Bathrooms  3+ Balconies  ...   \n",
       "1   Plot area 539(50.07 sq.m.)   5 Bedrooms   4 Bathrooms   2 Balconies  ...   \n",
       "2       Plot area 61(51 sq.m.)  10 Bedrooms  10 Bathrooms  3+ Balconies  ...   \n",
       "\n",
       "                                     address noOfFloor      facing  \\\n",
       "0  29b, Sector 70A Gurgaon, Gurgaon, Haryana  3 Floors  North-East   \n",
       "1     Sector 21A Faridabad, Gurgaon, Haryana  2 Floors         NaN   \n",
       "2      Sushant Lok Phase 1, Gurgaon, Haryana  5 Floors        West   \n",
       "\n",
       "      agePossession                                    nearbyLocations  \\\n",
       "0   0 to 1 Year Old  ['Good Earth City Center 2', 'Kunskapsskolan I...   \n",
       "1  5 to 10 Year Old                                                NaN   \n",
       "2   0 to 1 Year Old  ['Sector 42-43 metro station', 'Huda city cent...   \n",
       "\n",
       "                                         description  \\\n",
       "0  Do you wish to buy an independent house in sec...   \n",
       "1  Hi, we have an independent house/villa availab...   \n",
       "2  Monthly rental income is rs1,40,000/- Best opt...   \n",
       "\n",
       "                                      furnishDetails  \\\n",
       "0  ['1 Wardrobe', '1 Fan', '1 Exhaust Fan', '1 Ge...   \n",
       "1  ['1 Water Purifier', '5 Fan', '1 Exhaust Fan',...   \n",
       "2  ['10 Bed', '3 Fan', '10 Geyser', '2 Light', 'N...   \n",
       "\n",
       "                                            features  \\\n",
       "0  ['Feng Shui / Vaastu Compliant', 'Private Gard...   \n",
       "1  ['Private Garden / Terrace', 'Park', 'Visitor ...   \n",
       "2  ['Maintenance Staff', 'Water Storage', 'Visito...   \n",
       "\n",
       "                                              rating property_id  \n",
       "0  ['Environment5 out of 5', 'Lifestyle4 out of 5...   K70037724  \n",
       "1                                                NaN   E69288322  \n",
       "2  ['Environment5 out of 5', 'Lifestyle5 out of 5...   F69536898  \n",
       "\n",
       "[3 rows x 21 columns]"
      ]
     },
     "execution_count": 8,
     "metadata": {},
     "output_type": "execute_result"
    }
   ],
   "source": [
    "df.head(3)"
   ]
  },
  {
   "cell_type": "code",
   "execution_count": 9,
   "id": "166acd4a",
   "metadata": {},
   "outputs": [],
   "source": [
    "df = df.drop('property_id',axis=1)"
   ]
  },
  {
   "cell_type": "code",
   "execution_count": 10,
   "id": "4935bbec",
   "metadata": {},
   "outputs": [
    {
     "data": {
      "text/plain": [
       "Index(['property_name', 'link', 'society', 'price', 'rate', 'area',\n",
       "       'areaWithType', 'bedRoom', 'bathroom', 'balcony', 'additionalRoom',\n",
       "       'address', 'noOfFloor', 'facing', 'agePossession', 'nearbyLocations',\n",
       "       'description', 'furnishDetails', 'features', 'rating'],\n",
       "      dtype='object')"
      ]
     },
     "execution_count": 10,
     "metadata": {},
     "output_type": "execute_result"
    }
   ],
   "source": [
    "df.columns"
   ]
  },
  {
   "cell_type": "markdown",
   "id": "4ef4e663",
   "metadata": {},
   "source": [
    "property_name → Name of the property/project\n",
    "\n",
    "link → URL to the property listing\n",
    "\n",
    "society → Name of the society or residential community\n",
    "\n",
    "price → Price of the property\n",
    "\n",
    "rate → Price per unit area (like per sq. ft)\n",
    "\n",
    "area → Size of the property (numeric value)\n",
    "\n",
    "areaWithType → Size along with the unit (e.g., \"1200 sqft\")\n",
    "\n",
    "bedRoom → Number of bedrooms\n",
    "\n",
    "bathroom → Number of bathrooms\n",
    "\n",
    "balcony → Number of balconies\n",
    "\n",
    "additionalRoom → Extra rooms (study, servant room, etc.)\n",
    "\n",
    "address → Full address of the property\n",
    "\n",
    "noOfFloor → Total floors in the building\n",
    "\n",
    "facing → Direction the property faces (e.g., East, North)\n",
    "\n",
    "agePossession → Property age or possession date\n",
    "\n",
    "nearbyLocations → Places near the property (schools, hospitals, etc.)\n",
    "\n",
    "description → Detailed description from the listing\n",
    "\n",
    "furnishDetails → Furnishing status/details (furnished, semi-furnished)\n",
    "\n",
    "features → Amenities and features\n",
    "\n",
    "rating → Some rating value (maybe user or agent rating)"
   ]
  },
  {
   "cell_type": "code",
   "execution_count": 58,
   "id": "8a66d5b3",
   "metadata": {},
   "outputs": [],
   "source": [
    "values = df.iloc[0]"
   ]
  },
  {
   "cell_type": "code",
   "execution_count": 59,
   "id": "a97fcfee",
   "metadata": {},
   "outputs": [
    {
     "data": {
      "text/plain": [
       "property_name         5 Bedroom House for sale in Sector 70A Gurgaon\n",
       "link               https://www.99acres.com/5-bhk-bedroom-independ...\n",
       "society                                             bptp visionnaire\n",
       "price                                                     52500000.0\n",
       "rate                                                         20115.0\n",
       "area                                           (242 sq.m.) Plot Area\n",
       "areaWithType                             Plot area 290(242.48 sq.m.)\n",
       "bedRoom                                                            5\n",
       "bathroom                                                           4\n",
       "balcony                                                          3.0\n",
       "additionalRoom                                          Servant Room\n",
       "address                    29b, Sector 70A Gurgaon, Gurgaon, Haryana\n",
       "noOfFloor                                                          3\n",
       "facing                                                    North-East\n",
       "agePossession                                                      1\n",
       "nearbyLocations    ['Good Earth City Center 2', 'Kunskapsskolan I...\n",
       "description        Do you wish to buy an independent house in sec...\n",
       "furnishDetails     ['1 Wardrobe', '1 Fan', '1 Exhaust Fan', '1 Ge...\n",
       "features           ['Feng Shui / Vaastu Compliant', 'Private Gard...\n",
       "rating             ['Environment5 out of 5', 'Lifestyle4 out of 5...\n",
       "area_sqft                                                  2604.8638\n",
       "Name: 0, dtype: object"
      ]
     },
     "execution_count": 59,
     "metadata": {},
     "output_type": "execute_result"
    }
   ],
   "source": [
    "values"
   ]
  },
  {
   "cell_type": "code",
   "execution_count": 13,
   "id": "05c1a224",
   "metadata": {},
   "outputs": [],
   "source": [
    "df['property_name'] = df['property_name'].str.strip()"
   ]
  },
  {
   "cell_type": "code",
   "execution_count": 15,
   "id": "5cde6aa6",
   "metadata": {},
   "outputs": [],
   "source": [
    "df['society'] = df['society'].str.lower()"
   ]
  },
  {
   "cell_type": "code",
   "execution_count": 16,
   "id": "0fc8b88a",
   "metadata": {},
   "outputs": [
    {
     "data": {
      "text/plain": [
       "property_name         5 Bedroom House for sale in Sector 70A Gurgaon\n",
       "link               https://www.99acres.com/5-bhk-bedroom-independ...\n",
       "society                                             Bptp Visionnaire\n",
       "price                                                     5.25 Crore\n",
       "rate                                                 ₹ 20,115/sq.ft.\n",
       "area                                           (242 sq.m.) Plot Area\n",
       "areaWithType                             Plot area 290(242.48 sq.m.)\n",
       "bedRoom                                                   5 Bedrooms\n",
       "bathroom                                                 4 Bathrooms\n",
       "balcony                                                 3+ Balconies\n",
       "additionalRoom                                          Servant Room\n",
       "address                    29b, Sector 70A Gurgaon, Gurgaon, Haryana\n",
       "noOfFloor                                                   3 Floors\n",
       "facing                                                    North-East\n",
       "agePossession                                        0 to 1 Year Old\n",
       "nearbyLocations    ['Good Earth City Center 2', 'Kunskapsskolan I...\n",
       "description        Do you wish to buy an independent house in sec...\n",
       "furnishDetails     ['1 Wardrobe', '1 Fan', '1 Exhaust Fan', '1 Ge...\n",
       "features           ['Feng Shui / Vaastu Compliant', 'Private Gard...\n",
       "rating             ['Environment5 out of 5', 'Lifestyle4 out of 5...\n",
       "Name: 0, dtype: object"
      ]
     },
     "execution_count": 16,
     "metadata": {},
     "output_type": "execute_result"
    }
   ],
   "source": [
    "values"
   ]
  },
  {
   "cell_type": "code",
   "execution_count": 21,
   "id": "584a2ef0",
   "metadata": {},
   "outputs": [],
   "source": [
    "import numpy as np\n",
    "\n",
    "def convert_price(price):\n",
    "    # If the value is not a string, it might be a float or int already.\n",
    "    # In that case, we can just return it.\n",
    "    if not isinstance(price, str):\n",
    "        return float(price)\n",
    "\n",
    "    # If it is a string, proceed with your cleaning logic\n",
    "    price_str = price.replace(',', '').lower()\n",
    "    \n",
    "    try:\n",
    "        if 'crore' in price_str:\n",
    "            return float(price_str.split()[0]) * 1e7\n",
    "        if 'lac' in price_str:\n",
    "            return float(price_str.split()[0]) * 1e5\n",
    "        return float(price_str)\n",
    "    except (ValueError, IndexError):\n",
    "        # Return NaN for strings that can't be converted, e.g., \"Call for Price\"\n",
    "        return np.nan\n",
    "\n",
    "# Now, when you apply the function, it will handle both strings and numbers\n",
    "df['price'] = df['price'].apply(convert_price)\n"
   ]
  },
  {
   "cell_type": "code",
   "execution_count": 24,
   "id": "15e42c0f",
   "metadata": {},
   "outputs": [],
   "source": [
    "df['rate'] = df['rate'].str.replace('₹', '').str.replace(',', '').str.replace('/sq.ft.', '').astype(float)\n"
   ]
  },
  {
   "cell_type": "code",
   "execution_count": null,
   "id": "633ac7c8",
   "metadata": {},
   "outputs": [],
   "source": [
    "\n",
    "\n",
    "# Step 1: Ensure the 'area' column is treated as a string for string operations\n",
    "area_series = df['area'].astype(str)\n",
    "\n",
    "# Step 2: Extract the first numeric part from each string.\n",
    "# The regex ([\\d\\.]+) captures a group of one or more digits or dots.\n",
    "# 'expand=False' ensures the output is a Series.\n",
    "numeric_part = area_series.str.extract(r'([\\d\\.]+)', expand=False)\n",
    "\n",
    "# Step 3: Convert the extracted strings to numbers.\n",
    "# 'errors='coerce'' will turn any non-numeric values (e.g., from empty extractions) into NaN.\n",
    "df['area_sqft'] = pd.to_numeric(numeric_part, errors='coerce')\n",
    "\n",
    "# Step 4: Create a boolean mask to identify rows that need conversion.\n",
    "# 'na=False' treats any NaN values in the boolean Series as False.\n",
    "is_sqm = area_series.str.lower().str.contains('sq.m', na=False)\n",
    "\n",
    "# Step 5: Apply the conversion factor only to the rows where the mask is True.\n",
    "# .loc is used for safe assignment.\n",
    "df.loc[is_sqm, 'area_sqft'] = df.loc[is_sqm, 'area_sqft'] * 10.7639\n"
   ]
  },
  {
   "cell_type": "code",
   "execution_count": null,
   "id": "d55a0d07",
   "metadata": {},
   "outputs": [],
   "source": [
    "# This will convert numbers to integers and leave missing values as pd.NA\n",
    "df['bedRoom'] = df['bedRoom'].str.extract(r'(\\d+)').astype('Int64')\n",
    "df['bathroom'] = df['bathroom'].str.extract(r'(\\d+)').astype('Int64')\n",
    "df['balcony'] = df['balcony'].str.extract(r'(\\d+)').astype('float')"
   ]
  },
  {
   "cell_type": "code",
   "execution_count": 57,
   "id": "55945b85",
   "metadata": {},
   "outputs": [],
   "source": [
    "df['noOfFloor'] = df['noOfFloor'].str.extract(r'(\\d+)').astype('Int64')"
   ]
  },
  {
   "cell_type": "markdown",
   "id": "c75694d9",
   "metadata": {},
   "source": [
    "#Additional Categorical Cleaning\n",
    "\n",
    ". Facing → Encode direction (North-East → categorical encoding)\n",
    "\n",
    ". AgePossession → Map to numeric years"
   ]
  },
  {
   "cell_type": "code",
   "execution_count": 42,
   "id": "7890017e",
   "metadata": {},
   "outputs": [],
   "source": [
    "df['agePossession'] = df['agePossession'].replace({\n",
    "    '0 to 1 Year Old': 1,\n",
    "    '1 to 5 Year Old': 5,\n",
    "    '5 to 10 Year Old': 10,\n",
    "    '10+ Year Old': 15\n",
    "})"
   ]
  },
  {
   "cell_type": "code",
   "execution_count": 47,
   "id": "bb92abf6",
   "metadata": {},
   "outputs": [
    {
     "data": {
      "text/plain": [
       "property_name        0\n",
       "link                 0\n",
       "society              0\n",
       "price               86\n",
       "rate                39\n",
       "area                 0\n",
       "areaWithType        57\n",
       "bedRoom             57\n",
       "bathroom            57\n",
       "balcony            175\n",
       "additionalRoom     455\n",
       "address             13\n",
       "noOfFloor           77\n",
       "facing             370\n",
       "agePossession       57\n",
       "nearbyLocations    131\n",
       "description          8\n",
       "furnishDetails     301\n",
       "features           370\n",
       "rating             137\n",
       "area_sqft            0\n",
       "dtype: int64"
      ]
     },
     "execution_count": 47,
     "metadata": {},
     "output_type": "execute_result"
    }
   ],
   "source": [
    "df.isnull().sum()"
   ]
  },
  {
   "cell_type": "code",
   "execution_count": 46,
   "id": "db234bee",
   "metadata": {},
   "outputs": [],
   "source": [
    "df.fillna({'society': 'unknown'}, inplace=True)\n"
   ]
  },
  {
   "cell_type": "code",
   "execution_count": 52,
   "id": "42ab3768",
   "metadata": {},
   "outputs": [
    {
     "data": {
      "text/plain": [
       "society\n",
       "unknown                                0.566092\n",
       "vipul tatvam villa                     0.024904\n",
       "emaar mgf marbella                     0.024904\n",
       "international city by sobha phase 2    0.024904\n",
       "international city by sobha phase 1    0.022031\n",
       "                                         ...   \n",
       "ansal sushant lok 2                    0.000958\n",
       "sector 57 huda                         0.000958\n",
       "godrej meridien                        0.000958\n",
       "huda                                   0.000958\n",
       "huda floor                             0.000958\n",
       "Name: proportion, Length: 185, dtype: float64"
      ]
     },
     "execution_count": 52,
     "metadata": {},
     "output_type": "execute_result"
    }
   ],
   "source": [
    "# Get the proportion of each society\n",
    "df['society'].value_counts(normalize=True)\n"
   ]
  },
  {
   "cell_type": "code",
   "execution_count": 60,
   "id": "a5690d0d",
   "metadata": {},
   "outputs": [
    {
     "data": {
      "text/plain": [
       "additionalRoom\n",
       "Servant Room                                     0.139219\n",
       "Pooja Room,Study Room,Servant Room,Store Room    0.106961\n",
       "Others                                           0.100170\n",
       "Pooja Room                                       0.064516\n",
       "Pooja Room,Study Room,Servant Room               0.057725\n",
       "Pooja Room,Study Room,Servant Room,Others        0.054329\n",
       "Store Room                                       0.052632\n",
       "Pooja Room,Servant Room                          0.040747\n",
       "Study Room                                       0.032258\n",
       "Study Room,Servant Room                          0.032258\n",
       "Servant Room,Store Room                          0.025467\n",
       "Pooja Room,Study Room                            0.018676\n",
       "Pooja Room,Others                                0.018676\n",
       "Pooja Room,Store Room                            0.018676\n",
       "Pooja Room,Store Room,Study Room,Servant Room    0.015280\n",
       "Servant Room,Others                              0.013582\n",
       "Servant Room,Pooja Room                          0.013582\n",
       "Servant Room,Pooja Room,Store Room               0.011885\n",
       "Pooja Room,Servant Room,Store Room               0.011885\n",
       "Study Room,Servant Room,Pooja Room,Store Room    0.011885\n",
       "Store Room,Servant Room                          0.010187\n",
       "Study Room,Pooja Room,Servant Room               0.008489\n",
       "Pooja Room,Servant Room,Others                   0.008489\n",
       "Servant Room,Store Room,Pooja Room               0.008489\n",
       "Servant Room,Study Room                          0.008489\n",
       "Servant Room,Study Room,Pooja Room,Store Room    0.008489\n",
       "Study Room,Servant Room,Store Room               0.006791\n",
       "Pooja Room,Servant Room,Study Room,Store Room    0.006791\n",
       "Store Room,Pooja Room                            0.006791\n",
       "Study Room,Servant Room,Store Room,Pooja Room    0.006791\n",
       "Pooja Room,Study Room,Others                     0.006791\n",
       "Pooja Room,Study Room,Store Room                 0.005093\n",
       "Study Room,Others                                0.005093\n",
       "Study Room,Servant Room,Pooja Room               0.005093\n",
       "Study Room,Pooja Room,Servant Room,Store Room    0.005093\n",
       "Store Room,Pooja Room,Servant Room               0.003396\n",
       "Servant Room,Study Room,Store Room,Pooja Room    0.003396\n",
       "Study Room,Pooja Room,Store Room                 0.003396\n",
       "Store Room,Pooja Room,Study Room                 0.003396\n",
       "Servant Room,Study Room,Pooja Room               0.003396\n",
       "Pooja Room,Study Room,Store Room,Servant Room    0.003396\n",
       "Study Room,Pooja Room                            0.003396\n",
       "Study Room,Servant Room,Others                   0.003396\n",
       "Store Room,Pooja Room,Study Room,Servant Room    0.003396\n",
       "Study Room,Pooja Room,Store Room,Servant Room    0.003396\n",
       "Study Room,Store Room                            0.001698\n",
       "Study Room,Store Room,Pooja Room                 0.001698\n",
       "Store Room,Pooja Room,Servant Room,Study Room    0.001698\n",
       "Servant Room,Store Room,Study Room,Pooja Room    0.001698\n",
       "Store Room,Servant Room,Study Room,Pooja Room    0.001698\n",
       "Pooja Room,Store Room,Servant Room               0.001698\n",
       "Servant Room,Others,Pooja Room                   0.001698\n",
       "Study Room,Store Room,Servant Room,Pooja Room    0.001698\n",
       "Store Room,Study Room,Servant Room               0.001698\n",
       "Store Room,Servant Room,Pooja Room               0.001698\n",
       "Study Room,Others,Servant Room                   0.001698\n",
       "Name: proportion, dtype: float64"
      ]
     },
     "execution_count": 60,
     "metadata": {},
     "output_type": "execute_result"
    }
   ],
   "source": [
    "# Get the proportion of each society\n",
    "df['additionalRoom'].value_counts(normalize=True)\n"
   ]
  },
  {
   "cell_type": "code",
   "execution_count": 53,
   "id": "58581c5b",
   "metadata": {},
   "outputs": [
    {
     "name": "stdout",
     "output_type": "stream",
     "text": [
      "<class 'pandas.core.frame.DataFrame'>\n",
      "RangeIndex: 1044 entries, 0 to 1043\n",
      "Data columns (total 21 columns):\n",
      " #   Column           Non-Null Count  Dtype  \n",
      "---  ------           --------------  -----  \n",
      " 0   property_name    1044 non-null   object \n",
      " 1   link             1044 non-null   object \n",
      " 2   society          1044 non-null   object \n",
      " 3   price            958 non-null    float64\n",
      " 4   rate             1005 non-null   float64\n",
      " 5   area             1044 non-null   object \n",
      " 6   areaWithType     987 non-null    object \n",
      " 7   bedRoom          987 non-null    Int64  \n",
      " 8   bathroom         987 non-null    Int64  \n",
      " 9   balcony          869 non-null    float64\n",
      " 10  additionalRoom   589 non-null    object \n",
      " 11  address          1031 non-null   object \n",
      " 12  noOfFloor        967 non-null    object \n",
      " 13  facing           674 non-null    object \n",
      " 14  agePossession    987 non-null    object \n",
      " 15  nearbyLocations  913 non-null    object \n",
      " 16  description      1036 non-null   object \n",
      " 17  furnishDetails   743 non-null    object \n",
      " 18  features         674 non-null    object \n",
      " 19  rating           907 non-null    object \n",
      " 20  area_sqft        1044 non-null   float64\n",
      "dtypes: Int64(2), float64(4), object(15)\n",
      "memory usage: 173.4+ KB\n"
     ]
    }
   ],
   "source": [
    "df.info()"
   ]
  },
  {
   "cell_type": "code",
   "execution_count": 54,
   "id": "e589cce3",
   "metadata": {},
   "outputs": [
    {
     "data": {
      "text/plain": [
       "facing\n",
       "East          0.268546\n",
       "North-East    0.235905\n",
       "North         0.169139\n",
       "West          0.111276\n",
       "North-West    0.065282\n",
       "South-East    0.059347\n",
       "South         0.053412\n",
       "South-West    0.037092\n",
       "Name: proportion, dtype: float64"
      ]
     },
     "execution_count": 54,
     "metadata": {},
     "output_type": "execute_result"
    }
   ],
   "source": [
    "# Get the proportion of each society\n",
    "df['facing'].value_counts(normalize=True)\n"
   ]
  },
  {
   "cell_type": "code",
   "execution_count": 77,
   "id": "f941ff8f",
   "metadata": {},
   "outputs": [
    {
     "data": {
      "text/plain": [
       "property_name        0\n",
       "link                 0\n",
       "society              0\n",
       "price                0\n",
       "rate                 0\n",
       "area                 0\n",
       "areaWithType        57\n",
       "bedRoom              0\n",
       "bathroom             0\n",
       "balcony              0\n",
       "additionalRoom     455\n",
       "address             13\n",
       "noOfFloor           77\n",
       "facing             370\n",
       "agePossession       57\n",
       "nearbyLocations    131\n",
       "description          8\n",
       "furnishDetails     301\n",
       "features           370\n",
       "rating             137\n",
       "area_sqft            0\n",
       "dtype: int64"
      ]
     },
     "execution_count": 77,
     "metadata": {},
     "output_type": "execute_result"
    }
   ],
   "source": [
    "df.isnull().sum()"
   ]
  },
  {
   "cell_type": "code",
   "execution_count": 62,
   "id": "9046364c",
   "metadata": {},
   "outputs": [],
   "source": [
    "# Calculate the mean of the 'price' column\n",
    "mean_price = df['price'].mean()\n",
    "\n",
    "# Fill missing values with the mean\n",
    "df['price'] = df['price'].fillna(mean_price)\n"
   ]
  },
  {
   "cell_type": "code",
   "execution_count": 64,
   "id": "8c3f189e",
   "metadata": {},
   "outputs": [],
   "source": [
    "# Calculate the mean of the 'price' column\n",
    "mean_price = df['rate'].mean()\n",
    "\n",
    "# Fill missing values with the mean\n",
    "df['rate'] = df['rate'].fillna(mean_price)"
   ]
  },
  {
   "cell_type": "code",
   "execution_count": 67,
   "id": "6b5d7831",
   "metadata": {},
   "outputs": [],
   "source": [
    "# Calculate the median of the 'price' column\n",
    "median_price = df['bedRoom'].median()\n",
    "\n",
    "# Fill missing values with the calculated median\n",
    "# The assignment back to the column is the standard way to apply the change.\n",
    "df['bedRoom'] = df['bedRoom'].fillna(median_price)\n",
    "\n"
   ]
  },
  {
   "cell_type": "code",
   "execution_count": 69,
   "id": "b9d4b8ff",
   "metadata": {},
   "outputs": [],
   "source": [
    "# Calculate the median of the 'price' column\n",
    "median_price = df['bathroom'].median()\n",
    "\n",
    "# Fill missing values with the calculated median\n",
    "# The assignment back to the column is the standard way to apply the change.\n",
    "df['bathroom'] = df['bathroom'].fillna(median_price)\n"
   ]
  },
  {
   "cell_type": "code",
   "execution_count": 72,
   "id": "5fe2745d",
   "metadata": {},
   "outputs": [],
   "source": [
    "# Calculate the mean of the 'price' column\n",
    "mean_price = df['balcony'].mean()\n",
    "\n",
    "# Fill missing values with the mean\n",
    "df['balcony'] = df['balcony'].fillna(mean_price)\n"
   ]
  },
  {
   "cell_type": "code",
   "execution_count": 78,
   "id": "b99eb835",
   "metadata": {},
   "outputs": [],
   "source": [
    "# Fill missing values with 0\n",
    "df['noOfFloor'] = df['noOfFloor'].fillna(0)\n"
   ]
  },
  {
   "cell_type": "code",
   "execution_count": 81,
   "id": "2ec2c9e6",
   "metadata": {},
   "outputs": [],
   "source": [
    "# Fill missing values with 0\n",
    "df['agePossession'] = df['agePossession'].fillna(0)\n"
   ]
  },
  {
   "cell_type": "code",
   "execution_count": 89,
   "id": "24182d64",
   "metadata": {},
   "outputs": [],
   "source": [
    "# Fill with a new category called 'Missing'\n",
    "df['facing'] = df['facing'].fillna('Missing')\n",
    "\n"
   ]
  },
  {
   "cell_type": "code",
   "execution_count": 90,
   "id": "6b02db17",
   "metadata": {},
   "outputs": [
    {
     "data": {
      "text/plain": [
       "property_name        0\n",
       "link                 0\n",
       "society              0\n",
       "price                0\n",
       "rate                 0\n",
       "area                 0\n",
       "areaWithType        57\n",
       "bedRoom              0\n",
       "bathroom             0\n",
       "balcony              0\n",
       "additionalRoom     455\n",
       "address             13\n",
       "noOfFloor            0\n",
       "facing               0\n",
       "agePossession        0\n",
       "nearbyLocations    131\n",
       "description          8\n",
       "furnishDetails     301\n",
       "features           370\n",
       "rating             137\n",
       "area_sqft            0\n",
       "dtype: int64"
      ]
     },
     "execution_count": 90,
     "metadata": {},
     "output_type": "execute_result"
    }
   ],
   "source": [
    "df.isnull().sum()"
   ]
  },
  {
   "cell_type": "code",
   "execution_count": 91,
   "id": "6731e66c",
   "metadata": {},
   "outputs": [],
   "source": [
    "rating = df['rating'].iloc[0]"
   ]
  },
  {
   "cell_type": "code",
   "execution_count": 92,
   "id": "92bf3269",
   "metadata": {},
   "outputs": [
    {
     "data": {
      "text/plain": [
       "\"['Environment5 out of 5', 'Lifestyle4 out of 5', 'Connectivity4 out of 5', 'Safety4 out of 5']\""
      ]
     },
     "execution_count": 92,
     "metadata": {},
     "output_type": "execute_result"
    }
   ],
   "source": [
    "rating"
   ]
  },
  {
   "cell_type": "code",
   "execution_count": 93,
   "id": "b60459cb",
   "metadata": {},
   "outputs": [
    {
     "name": "stdout",
     "output_type": "stream",
     "text": [
      "Original string: ['Environment5 out of 5', 'Lifestyle4 out of 5', 'Connectivity4 out of 5', 'Safety4 out of 5']\n",
      "Extracted numeric ratings: [5, 4, 4, 4]\n"
     ]
    }
   ],
   "source": [
    "import ast\n",
    "import re\n",
    "\n",
    "def extract_numeric_ratings(ratings_string: str) -> list[int]:\n",
    "    \"\"\"\n",
    "    Parses a stringified list of ratings and extracts the numeric score from each item.\n",
    "    \"\"\"\n",
    "    try:\n",
    "        # 1. Safely parse the string into a Python list\n",
    "        ratings_list = ast.literal_eval(ratings_string)\n",
    "\n",
    "        # 2. Use a list comprehension and regex to extract the first digit from each item\n",
    "        # re.search(r'\\d', item).group() finds the first digit in the string\n",
    "        numeric_ratings = [int(re.search(r'\\d', item).group()) for item in ratings_list]\n",
    "        return numeric_ratings\n",
    "\n",
    "    except (ValueError, SyntaxError, AttributeError):\n",
    "        # Handle cases where the string is malformed or an item doesn't contain a digit\n",
    "        print(f\"Warning: Could not parse or extract ratings from string: {ratings_string}\")\n",
    "        return []\n",
    "\n",
    "# --- Example Usage ---\n",
    "ratings_input = \"['Environment5 out of 5', 'Lifestyle4 out of 5', 'Connectivity4 out of 5', 'Safety4 out of 5']\"\n",
    "numeric_values = extract_numeric_ratings(ratings_input)\n",
    "\n",
    "print(f\"Original string: {ratings_input}\")\n",
    "print(f\"Extracted numeric ratings: {numeric_values}\")\n",
    "\n",
    "# --- Output ---\n",
    "# Original string: ['Environment5 out of 5', 'Lifestyle4 out of 5', 'Connectivity4 out of 5', 'Safety4 out of 5']\n",
    "# Extracted numeric ratings: [5, 4, 4, 4]\n"
   ]
  },
  {
   "cell_type": "code",
   "execution_count": 94,
   "id": "96fae8fe",
   "metadata": {},
   "outputs": [
    {
     "data": {
      "text/plain": [
       "4.25"
      ]
     },
     "execution_count": 94,
     "metadata": {},
     "output_type": "execute_result"
    }
   ],
   "source": [
    "val = sum(numeric_values)/len(numeric_values)\n",
    "val"
   ]
  },
  {
   "cell_type": "code",
   "execution_count": 95,
   "id": "9487e155",
   "metadata": {},
   "outputs": [
    {
     "name": "stdout",
     "output_type": "stream",
     "text": [
      "                                         property_name  \\\n",
      "0       5 Bedroom House for sale in Sector 70A Gurgaon   \n",
      "1     5 Bedroom House for sale in Sector 21A Faridabad   \n",
      "2     10 Bedroom House for sale in Sushant Lok Phase 1   \n",
      "3       21 Bedroom House for sale in Sector 54 Gurgaon   \n",
      "4     12 Bedroom House for sale in Sushant Lok Phase 1   \n",
      "...                                                ...   \n",
      "1039     4 Bedroom House for sale in Sector 26 Gurgaon   \n",
      "1040           3 Bedroom House for sale in DLF Phase 2   \n",
      "1041     3 Bedroom House for sale in Sector 26 Gurgaon   \n",
      "1042     3 Bedroom House for sale in Sector 26 Gurgaon   \n",
      "1043                3 Bedroom House for sale in Bissar   \n",
      "\n",
      "                                                   link  \\\n",
      "0     https://www.99acres.com/5-bhk-bedroom-independ...   \n",
      "1     https://www.99acres.com/5-bhk-bedroom-independ...   \n",
      "2     https://www.99acres.com/10-bhk-bedroom-indepen...   \n",
      "3     https://www.99acres.com/21-bhk-bedroom-indepen...   \n",
      "4     https://www.99acres.com/12-bhk-bedroom-indepen...   \n",
      "...                                                 ...   \n",
      "1039  https://www.99acres.com/4-bhk-bedroom-independ...   \n",
      "1040  https://www.99acres.com/3-bhk-bedroom-independ...   \n",
      "1041  https://www.99acres.com/3-bhk-bedroom-independ...   \n",
      "1042  https://www.99acres.com/3-bhk-bedroom-independ...   \n",
      "1043  https://www.99acres.com/3-bhk-bedroom-independ...   \n",
      "\n",
      "                                       society       price      rate  \\\n",
      "0                             bptp visionnaire  52500000.0   20115.0   \n",
      "1                                      unknown  57000000.0  105751.0   \n",
      "2                                      unknown  21000000.0   38251.0   \n",
      "3                                      unknown  50000000.0   43066.0   \n",
      "4                                      unknown  30000000.0   53763.0   \n",
      "...                                        ...         ...       ...   \n",
      "1039                          dlf city phase 1  55000000.0   30556.0   \n",
      "1040                    dlf city plots phase 2  42500000.0   31481.0   \n",
      "1041                          dlf city phase 1  45000000.0   33333.0   \n",
      "1042                          dlf city phase 1  32500000.0   33129.0   \n",
      "1043  silverglades tarudhan valley golf resort  36000000.0   14815.0   \n",
      "\n",
      "                       area                 areaWithType  bedRoom  bathroom  \\\n",
      "0     (242 sq.m.) Plot Area  Plot area 290(242.48 sq.m.)        5         4   \n",
      "1      (50 sq.m.) Plot Area   Plot area 539(50.07 sq.m.)        5         4   \n",
      "2      (51 sq.m.) Plot Area       Plot area 61(51 sq.m.)       10        10   \n",
      "3     (108 sq.m.) Plot Area  Plot area 129(107.86 sq.m.)       21        21   \n",
      "4      (52 sq.m.) Plot Area    Plot area 62(51.84 sq.m.)       12        12   \n",
      "...                     ...                          ...      ...       ...   \n",
      "1039  (167 sq.m.) Plot Area  Plot area 200(167.23 sq.m.)        4         4   \n",
      "1040  (125 sq.m.) Plot Area  Plot area 150(125.42 sq.m.)        3         2   \n",
      "1041  (125 sq.m.) Plot Area  Plot area 150(125.42 sq.m.)        3         3   \n",
      "1042   (91 sq.m.) Plot Area   Plot area 109(91.14 sq.m.)        3         3   \n",
      "1043  (226 sq.m.) Plot Area  Plot area 270(225.75 sq.m.)        3         3   \n",
      "\n",
      "      balcony  ...                                    nearbyLocations  \\\n",
      "0         3.0  ...  ['Good Earth City Center 2', 'Kunskapsskolan I...   \n",
      "1         2.0  ...                                                NaN   \n",
      "2         3.0  ...  ['Sector 42-43 metro station', 'Huda city cent...   \n",
      "3         3.0  ...  ['Sector 53-54 metro station', 'Sector 54 chow...   \n",
      "4         3.0  ...  ['Sector 42-43 metro station', 'Huda city cent...   \n",
      "...       ...  ...                                                ...   \n",
      "1039      3.0  ...  ['Dlf phase 1 metro station', 'Sikandarpur met...   \n",
      "1040      3.0  ...  ['Sahara Mall', 'Delhi Public School', 'Privat...   \n",
      "1041      2.0  ...  ['Dlf phase 1 metro station', 'Sikandarpur met...   \n",
      "1042      3.0  ...  ['Dlf phase 1 metro station', 'Sikandarpur met...   \n",
      "1043      2.0  ...                                                NaN   \n",
      "\n",
      "                                            description  \\\n",
      "0     Do you wish to buy an independent house in sec...   \n",
      "1     Hi, we have an independent house/villa availab...   \n",
      "2     Monthly rental income is rs1,40,000/- Best opt...   \n",
      "3     129 sq yd plot size. 5 floors built up , fully...   \n",
      "4     Best for investment purpose. Fully furnished b...   \n",
      "...                                                 ...   \n",
      "1039  Residential house, g block, dlf phase-1, gurga...   \n",
      "1040  Residential house, k block, dlf phase-2, gurga...   \n",
      "1041  Residential house, e block 150 sq.Yds , dlf ph...   \n",
      "1042  Residential house, e block, dlf phase-1, gurga...   \n",
      "1043  This 3 bhk house for sale in bissar is an idea...   \n",
      "\n",
      "                                         furnishDetails  \\\n",
      "0     ['1 Wardrobe', '1 Fan', '1 Exhaust Fan', '1 Ge...   \n",
      "1     ['1 Water Purifier', '5 Fan', '1 Exhaust Fan',...   \n",
      "2     ['10 Bed', '3 Fan', '10 Geyser', '2 Light', 'N...   \n",
      "3     ['1 Water Purifier', '21 Fan', '1 Fridge', '1 ...   \n",
      "4     ['1 Water Purifier', '1 Fridge', '12 Fan', '1 ...   \n",
      "...                                                 ...   \n",
      "1039  ['10 Light', 'No AC', 'No Bed', 'No Chimney', ...   \n",
      "1040                                                NaN   \n",
      "1041  ['6 Fan', '20 Light', 'No AC', 'No Bed', 'No C...   \n",
      "1042  ['5 Fan', '16 Light', 'No AC', 'No Bed', 'No C...   \n",
      "1043  ['1 Water Purifier', '10 Fan', '1 Fridge', '1 ...   \n",
      "\n",
      "                                               features  area_sqft  \\\n",
      "0     ['Feng Shui / Vaastu Compliant', 'Private Gard...  2604.8638   \n",
      "1     ['Private Garden / Terrace', 'Park', 'Visitor ...   538.1950   \n",
      "2     ['Maintenance Staff', 'Water Storage', 'Visito...   548.9589   \n",
      "3     ['Feng Shui / Vaastu Compliant', 'Private Gard...  1162.5012   \n",
      "4     ['Maintenance Staff', 'Water Storage', 'Visito...   559.7228   \n",
      "...                                                 ...        ...   \n",
      "1039  ['Feng Shui / Vaastu Compliant', 'High Ceiling...  1797.5713   \n",
      "1040  ['High Ceiling Height', 'Maintenance Staff', '...  1345.4875   \n",
      "1041  ['Feng Shui / Vaastu Compliant', 'Private Gard...  1345.4875   \n",
      "1042  ['Feng Shui / Vaastu Compliant', 'Private Gard...   979.5149   \n",
      "1043  ['Centrally Air Conditioned', 'Water purifier'...  2432.6414   \n",
      "\n",
      "     Environment Lifestyle Connectivity Safety  avg_rating  \n",
      "0            5.0       4.0          4.0    4.0        4.25  \n",
      "1            NaN       NaN          NaN    NaN         NaN  \n",
      "2            5.0       5.0          5.0    5.0        5.00  \n",
      "3            4.0       5.0          4.0    4.0        4.25  \n",
      "4            5.0       5.0          5.0    5.0        5.00  \n",
      "...          ...       ...          ...    ...         ...  \n",
      "1039         NaN       NaN          NaN    NaN         NaN  \n",
      "1040         5.0       5.0          5.0    5.0        5.00  \n",
      "1041         NaN       NaN          NaN    NaN         NaN  \n",
      "1042         NaN       NaN          NaN    NaN         NaN  \n",
      "1043         NaN       NaN          NaN    NaN         NaN  \n",
      "\n",
      "[1044 rows x 25 columns]\n"
     ]
    }
   ],
   "source": [
    "import pandas as pd\n",
    "import ast\n",
    "import re\n",
    "import sys\n",
    "import numpy as np\n",
    "from src.logger import logging\n",
    "from src.exception import CustomException\n",
    "\n",
    "def parse_ratings_to_dict(ratings_str: str) -> dict:\n",
    "    \"\"\"\n",
    "    Parses a stringified list of ratings into a dictionary of {category: score}.\n",
    "    Handles non-string inputs and parsing errors gracefully.\n",
    "    \"\"\"\n",
    "    if not isinstance(ratings_str, str) or not ratings_str.startswith('['):\n",
    "        return {}\n",
    "\n",
    "    try:\n",
    "        ratings_list = ast.literal_eval(ratings_str)\n",
    "        ratings_dict = {}\n",
    "        # Regex to find the category name (letters) and the first number\n",
    "        pattern = re.compile(r'([a-zA-Z]+)(\\d)')\n",
    "\n",
    "        for item in ratings_list:\n",
    "            match = pattern.search(item)\n",
    "            if match:\n",
    "                category, rating = match.groups()\n",
    "                ratings_dict[category] = int(rating)\n",
    "        return ratings_dict\n",
    "    except (ValueError, SyntaxError):\n",
    "        logging.warning(f\"Could not parse rating string: {ratings_str}\")\n",
    "        return {}\n",
    "\n",
    "# --- Main Processing Script Example ---\n",
    "try:\n",
    "    logging.info(\"Starting preprocessing of 'ratings' column.\")\n",
    "\n",
    "    # Example DataFrame, assuming 'df' is already loaded\n",
    "    df = df\n",
    "    logging.info(\"Sample DataFrame loaded for demonstration.\")\n",
    "\n",
    "    # 1. Apply the parsing function to create a column of dictionaries\n",
    "    parsed_ratings_col = df['rating'].apply(parse_ratings_to_dict)\n",
    "    logging.info(\"Applied parsing function to 'ratings' column.\")\n",
    "\n",
    "    # 2. Use json_normalize to expand the dictionaries into new columns.\n",
    "    ratings_df = pd.json_normalize(parsed_ratings_col)\n",
    "    logging.info(\"Expanded dictionaries into a new ratings DataFrame.\")\n",
    "\n",
    "    # 3. NEW: Calculate the average rating and add it as a new column\n",
    "    logging.info(\"Calculating the average rating for each property.\")\n",
    "    # The .mean(axis=1) calculates the mean across the columns for each row.\n",
    "    # It automatically and correctly handles missing ratings (NaNs).\n",
    "    ratings_df['avg_rating'] = ratings_df.mean(axis=1)\n",
    "    logging.info(\"Successfully created 'avg_rating' feature.\")\n",
    "\n",
    "    # 4. Concatenate the new columns and drop the original raw 'ratings' column\n",
    "    df_processed = pd.concat([df.drop('rating', axis=1), ratings_df], axis=1)\n",
    "    \n",
    "    logging.info(\"Successfully preprocessed ratings. Final DataFrame structure:\")\n",
    "    print(df_processed)\n",
    "\n",
    "except Exception as e:\n",
    "    logging.error(\"A critical error occurred during rating preprocessing.\")\n",
    "    raise CustomException(e, sys) from e\n"
   ]
  },
  {
   "cell_type": "code",
   "execution_count": 96,
   "id": "17839929",
   "metadata": {},
   "outputs": [
    {
     "data": {
      "text/html": [
       "<div>\n",
       "<style scoped>\n",
       "    .dataframe tbody tr th:only-of-type {\n",
       "        vertical-align: middle;\n",
       "    }\n",
       "\n",
       "    .dataframe tbody tr th {\n",
       "        vertical-align: top;\n",
       "    }\n",
       "\n",
       "    .dataframe thead th {\n",
       "        text-align: right;\n",
       "    }\n",
       "</style>\n",
       "<table border=\"1\" class=\"dataframe\">\n",
       "  <thead>\n",
       "    <tr style=\"text-align: right;\">\n",
       "      <th></th>\n",
       "      <th>property_name</th>\n",
       "      <th>link</th>\n",
       "      <th>society</th>\n",
       "      <th>price</th>\n",
       "      <th>rate</th>\n",
       "      <th>area</th>\n",
       "      <th>areaWithType</th>\n",
       "      <th>bedRoom</th>\n",
       "      <th>bathroom</th>\n",
       "      <th>balcony</th>\n",
       "      <th>...</th>\n",
       "      <th>nearbyLocations</th>\n",
       "      <th>description</th>\n",
       "      <th>furnishDetails</th>\n",
       "      <th>features</th>\n",
       "      <th>area_sqft</th>\n",
       "      <th>Environment</th>\n",
       "      <th>Lifestyle</th>\n",
       "      <th>Connectivity</th>\n",
       "      <th>Safety</th>\n",
       "      <th>avg_rating</th>\n",
       "    </tr>\n",
       "  </thead>\n",
       "  <tbody>\n",
       "    <tr>\n",
       "      <th>0</th>\n",
       "      <td>5 Bedroom House for sale in Sector 70A Gurgaon</td>\n",
       "      <td>https://www.99acres.com/5-bhk-bedroom-independ...</td>\n",
       "      <td>bptp visionnaire</td>\n",
       "      <td>52500000.0</td>\n",
       "      <td>20115.0</td>\n",
       "      <td>(242 sq.m.) Plot Area</td>\n",
       "      <td>Plot area 290(242.48 sq.m.)</td>\n",
       "      <td>5</td>\n",
       "      <td>4</td>\n",
       "      <td>3.0</td>\n",
       "      <td>...</td>\n",
       "      <td>['Good Earth City Center 2', 'Kunskapsskolan I...</td>\n",
       "      <td>Do you wish to buy an independent house in sec...</td>\n",
       "      <td>['1 Wardrobe', '1 Fan', '1 Exhaust Fan', '1 Ge...</td>\n",
       "      <td>['Feng Shui / Vaastu Compliant', 'Private Gard...</td>\n",
       "      <td>2604.8638</td>\n",
       "      <td>5.0</td>\n",
       "      <td>4.0</td>\n",
       "      <td>4.0</td>\n",
       "      <td>4.0</td>\n",
       "      <td>4.25</td>\n",
       "    </tr>\n",
       "    <tr>\n",
       "      <th>1</th>\n",
       "      <td>5 Bedroom House for sale in Sector 21A Faridabad</td>\n",
       "      <td>https://www.99acres.com/5-bhk-bedroom-independ...</td>\n",
       "      <td>unknown</td>\n",
       "      <td>57000000.0</td>\n",
       "      <td>105751.0</td>\n",
       "      <td>(50 sq.m.) Plot Area</td>\n",
       "      <td>Plot area 539(50.07 sq.m.)</td>\n",
       "      <td>5</td>\n",
       "      <td>4</td>\n",
       "      <td>2.0</td>\n",
       "      <td>...</td>\n",
       "      <td>NaN</td>\n",
       "      <td>Hi, we have an independent house/villa availab...</td>\n",
       "      <td>['1 Water Purifier', '5 Fan', '1 Exhaust Fan',...</td>\n",
       "      <td>['Private Garden / Terrace', 'Park', 'Visitor ...</td>\n",
       "      <td>538.1950</td>\n",
       "      <td>NaN</td>\n",
       "      <td>NaN</td>\n",
       "      <td>NaN</td>\n",
       "      <td>NaN</td>\n",
       "      <td>NaN</td>\n",
       "    </tr>\n",
       "    <tr>\n",
       "      <th>2</th>\n",
       "      <td>10 Bedroom House for sale in Sushant Lok Phase 1</td>\n",
       "      <td>https://www.99acres.com/10-bhk-bedroom-indepen...</td>\n",
       "      <td>unknown</td>\n",
       "      <td>21000000.0</td>\n",
       "      <td>38251.0</td>\n",
       "      <td>(51 sq.m.) Plot Area</td>\n",
       "      <td>Plot area 61(51 sq.m.)</td>\n",
       "      <td>10</td>\n",
       "      <td>10</td>\n",
       "      <td>3.0</td>\n",
       "      <td>...</td>\n",
       "      <td>['Sector 42-43 metro station', 'Huda city cent...</td>\n",
       "      <td>Monthly rental income is rs1,40,000/- Best opt...</td>\n",
       "      <td>['10 Bed', '3 Fan', '10 Geyser', '2 Light', 'N...</td>\n",
       "      <td>['Maintenance Staff', 'Water Storage', 'Visito...</td>\n",
       "      <td>548.9589</td>\n",
       "      <td>5.0</td>\n",
       "      <td>5.0</td>\n",
       "      <td>5.0</td>\n",
       "      <td>5.0</td>\n",
       "      <td>5.00</td>\n",
       "    </tr>\n",
       "    <tr>\n",
       "      <th>3</th>\n",
       "      <td>21 Bedroom House for sale in Sector 54 Gurgaon</td>\n",
       "      <td>https://www.99acres.com/21-bhk-bedroom-indepen...</td>\n",
       "      <td>unknown</td>\n",
       "      <td>50000000.0</td>\n",
       "      <td>43066.0</td>\n",
       "      <td>(108 sq.m.) Plot Area</td>\n",
       "      <td>Plot area 129(107.86 sq.m.)</td>\n",
       "      <td>21</td>\n",
       "      <td>21</td>\n",
       "      <td>3.0</td>\n",
       "      <td>...</td>\n",
       "      <td>['Sector 53-54 metro station', 'Sector 54 chow...</td>\n",
       "      <td>129 sq yd plot size. 5 floors built up , fully...</td>\n",
       "      <td>['1 Water Purifier', '21 Fan', '1 Fridge', '1 ...</td>\n",
       "      <td>['Feng Shui / Vaastu Compliant', 'Private Gard...</td>\n",
       "      <td>1162.5012</td>\n",
       "      <td>4.0</td>\n",
       "      <td>5.0</td>\n",
       "      <td>4.0</td>\n",
       "      <td>4.0</td>\n",
       "      <td>4.25</td>\n",
       "    </tr>\n",
       "    <tr>\n",
       "      <th>4</th>\n",
       "      <td>12 Bedroom House for sale in Sushant Lok Phase 1</td>\n",
       "      <td>https://www.99acres.com/12-bhk-bedroom-indepen...</td>\n",
       "      <td>unknown</td>\n",
       "      <td>30000000.0</td>\n",
       "      <td>53763.0</td>\n",
       "      <td>(52 sq.m.) Plot Area</td>\n",
       "      <td>Plot area 62(51.84 sq.m.)</td>\n",
       "      <td>12</td>\n",
       "      <td>12</td>\n",
       "      <td>3.0</td>\n",
       "      <td>...</td>\n",
       "      <td>['Sector 42-43 metro station', 'Huda city cent...</td>\n",
       "      <td>Best for investment purpose. Fully furnished b...</td>\n",
       "      <td>['1 Water Purifier', '1 Fridge', '12 Fan', '1 ...</td>\n",
       "      <td>['Maintenance Staff', 'Water Storage', 'Visito...</td>\n",
       "      <td>559.7228</td>\n",
       "      <td>5.0</td>\n",
       "      <td>5.0</td>\n",
       "      <td>5.0</td>\n",
       "      <td>5.0</td>\n",
       "      <td>5.00</td>\n",
       "    </tr>\n",
       "  </tbody>\n",
       "</table>\n",
       "<p>5 rows × 25 columns</p>\n",
       "</div>"
      ],
      "text/plain": [
       "                                      property_name  \\\n",
       "0    5 Bedroom House for sale in Sector 70A Gurgaon   \n",
       "1  5 Bedroom House for sale in Sector 21A Faridabad   \n",
       "2  10 Bedroom House for sale in Sushant Lok Phase 1   \n",
       "3    21 Bedroom House for sale in Sector 54 Gurgaon   \n",
       "4  12 Bedroom House for sale in Sushant Lok Phase 1   \n",
       "\n",
       "                                                link           society  \\\n",
       "0  https://www.99acres.com/5-bhk-bedroom-independ...  bptp visionnaire   \n",
       "1  https://www.99acres.com/5-bhk-bedroom-independ...           unknown   \n",
       "2  https://www.99acres.com/10-bhk-bedroom-indepen...           unknown   \n",
       "3  https://www.99acres.com/21-bhk-bedroom-indepen...           unknown   \n",
       "4  https://www.99acres.com/12-bhk-bedroom-indepen...           unknown   \n",
       "\n",
       "        price      rate                   area                 areaWithType  \\\n",
       "0  52500000.0   20115.0  (242 sq.m.) Plot Area  Plot area 290(242.48 sq.m.)   \n",
       "1  57000000.0  105751.0   (50 sq.m.) Plot Area   Plot area 539(50.07 sq.m.)   \n",
       "2  21000000.0   38251.0   (51 sq.m.) Plot Area       Plot area 61(51 sq.m.)   \n",
       "3  50000000.0   43066.0  (108 sq.m.) Plot Area  Plot area 129(107.86 sq.m.)   \n",
       "4  30000000.0   53763.0   (52 sq.m.) Plot Area    Plot area 62(51.84 sq.m.)   \n",
       "\n",
       "   bedRoom  bathroom  balcony  ...  \\\n",
       "0        5         4      3.0  ...   \n",
       "1        5         4      2.0  ...   \n",
       "2       10        10      3.0  ...   \n",
       "3       21        21      3.0  ...   \n",
       "4       12        12      3.0  ...   \n",
       "\n",
       "                                     nearbyLocations  \\\n",
       "0  ['Good Earth City Center 2', 'Kunskapsskolan I...   \n",
       "1                                                NaN   \n",
       "2  ['Sector 42-43 metro station', 'Huda city cent...   \n",
       "3  ['Sector 53-54 metro station', 'Sector 54 chow...   \n",
       "4  ['Sector 42-43 metro station', 'Huda city cent...   \n",
       "\n",
       "                                         description  \\\n",
       "0  Do you wish to buy an independent house in sec...   \n",
       "1  Hi, we have an independent house/villa availab...   \n",
       "2  Monthly rental income is rs1,40,000/- Best opt...   \n",
       "3  129 sq yd plot size. 5 floors built up , fully...   \n",
       "4  Best for investment purpose. Fully furnished b...   \n",
       "\n",
       "                                      furnishDetails  \\\n",
       "0  ['1 Wardrobe', '1 Fan', '1 Exhaust Fan', '1 Ge...   \n",
       "1  ['1 Water Purifier', '5 Fan', '1 Exhaust Fan',...   \n",
       "2  ['10 Bed', '3 Fan', '10 Geyser', '2 Light', 'N...   \n",
       "3  ['1 Water Purifier', '21 Fan', '1 Fridge', '1 ...   \n",
       "4  ['1 Water Purifier', '1 Fridge', '12 Fan', '1 ...   \n",
       "\n",
       "                                            features  area_sqft Environment  \\\n",
       "0  ['Feng Shui / Vaastu Compliant', 'Private Gard...  2604.8638         5.0   \n",
       "1  ['Private Garden / Terrace', 'Park', 'Visitor ...   538.1950         NaN   \n",
       "2  ['Maintenance Staff', 'Water Storage', 'Visito...   548.9589         5.0   \n",
       "3  ['Feng Shui / Vaastu Compliant', 'Private Gard...  1162.5012         4.0   \n",
       "4  ['Maintenance Staff', 'Water Storage', 'Visito...   559.7228         5.0   \n",
       "\n",
       "  Lifestyle Connectivity Safety  avg_rating  \n",
       "0       4.0          4.0    4.0        4.25  \n",
       "1       NaN          NaN    NaN         NaN  \n",
       "2       5.0          5.0    5.0        5.00  \n",
       "3       5.0          4.0    4.0        4.25  \n",
       "4       5.0          5.0    5.0        5.00  \n",
       "\n",
       "[5 rows x 25 columns]"
      ]
     },
     "execution_count": 96,
     "metadata": {},
     "output_type": "execute_result"
    }
   ],
   "source": [
    "df_processed.head()"
   ]
  },
  {
   "cell_type": "code",
   "execution_count": 97,
   "id": "cd1b5fbd",
   "metadata": {},
   "outputs": [
    {
     "data": {
      "text/plain": [
       "property_name        0\n",
       "link                 0\n",
       "society              0\n",
       "price                0\n",
       "rate                 0\n",
       "area                 0\n",
       "areaWithType        57\n",
       "bedRoom              0\n",
       "bathroom             0\n",
       "balcony              0\n",
       "additionalRoom     455\n",
       "address             13\n",
       "noOfFloor            0\n",
       "facing               0\n",
       "agePossession        0\n",
       "nearbyLocations    131\n",
       "description          8\n",
       "furnishDetails     301\n",
       "features           370\n",
       "area_sqft            0\n",
       "Environment        137\n",
       "Lifestyle          137\n",
       "Connectivity       137\n",
       "Safety             137\n",
       "avg_rating         137\n",
       "dtype: int64"
      ]
     },
     "execution_count": 97,
     "metadata": {},
     "output_type": "execute_result"
    }
   ],
   "source": [
    "df_processed.isnull().sum()"
   ]
  },
  {
   "cell_type": "code",
   "execution_count": 174,
   "id": "c7c0b51d",
   "metadata": {},
   "outputs": [],
   "source": [
    "df = df_processed"
   ]
  },
  {
   "cell_type": "code",
   "execution_count": 175,
   "id": "fbdd4c57",
   "metadata": {},
   "outputs": [],
   "source": [
    "df['Environment'] = df['Environment'].fillna(df['Environment'].mean())\n",
    "df['Lifestyle'] = df['Lifestyle'].fillna(df['Lifestyle'].mean())\n",
    "df['Connectivity'] = df['Connectivity'].fillna(df['Connectivity'].mean())\n",
    "df['Safety'] = df['Safety'].fillna(df['Safety'].mean())\n",
    "df['avg_rating'] = df['avg_rating'].fillna(df['avg_rating'].mean())"
   ]
  },
  {
   "cell_type": "code",
   "execution_count": 116,
   "id": "b922b85f",
   "metadata": {},
   "outputs": [
    {
     "data": {
      "text/plain": [
       "property_name        0\n",
       "link                 0\n",
       "society              0\n",
       "price                0\n",
       "rate                 0\n",
       "area                 0\n",
       "areaWithType        57\n",
       "bedRoom              0\n",
       "bathroom             0\n",
       "balcony              0\n",
       "additionalRoom     455\n",
       "address             13\n",
       "noOfFloor            0\n",
       "facing               0\n",
       "agePossession        0\n",
       "nearbyLocations    131\n",
       "description          8\n",
       "furnishDetails     301\n",
       "features           370\n",
       "area_sqft            0\n",
       "Environment          0\n",
       "Lifestyle            0\n",
       "Connectivity         0\n",
       "Safety               0\n",
       "avg_rating           0\n",
       "dtype: int64"
      ]
     },
     "execution_count": 116,
     "metadata": {},
     "output_type": "execute_result"
    }
   ],
   "source": [
    "df.isnull().sum()"
   ]
  },
  {
   "cell_type": "code",
   "execution_count": 162,
   "id": "bd53d0bc",
   "metadata": {},
   "outputs": [
    {
     "data": {
      "text/plain": [
       "agePossession_years\n",
       "10.0    0.287794\n",
       "5.0     0.256439\n",
       "15.0    0.245241\n",
       "1.0     0.124300\n",
       "0.0     0.086226\n",
       "Name: proportion, dtype: float64"
      ]
     },
     "execution_count": 162,
     "metadata": {},
     "output_type": "execute_result"
    }
   ],
   "source": [
    "df['agePossession_years'].value_counts(normalize=True)\n"
   ]
  },
  {
   "cell_type": "code",
   "execution_count": 170,
   "id": "207c0f8a",
   "metadata": {},
   "outputs": [],
   "source": [
    "def preprocess_age_possession(value):\n",
    "    # If it's purely numeric (like 10, 5, etc.)\n",
    "    if str(value).isdigit():\n",
    "        return int(value)  # keep as years\n",
    "    \n",
    "    # Handle \"Within X months\"\n",
    "    if \"Within\" in str(value):\n",
    "        months = [int(s) for s in str(value).split() if s.isdigit()]\n",
    "        return round(months[0] / 12, 2) if months else np.nan  # convert months to years\n",
    "    \n",
    "    # Handle specific year-month possession dates\n",
    "    try:\n",
    "        date_val = pd.to_datetime(value, errors='coerce')\n",
    "        if pd.notnull(date_val):\n",
    "            years_until = (date_val - pd.Timestamp.today()).days / 365\n",
    "            return round(years_until, 2)  # positive means in future\n",
    "    except:\n",
    "        pass\n",
    "    \n",
    "    # Map special categories\n",
    "    if \"Under Construction\" in str(value):\n",
    "        return -1  # special code\n",
    "    if \"undefined\" in str(value):\n",
    "        return np.nan\n",
    "    \n",
    "    return np.nan\n",
    "\n",
    "df['agePossession_processed'] = df['agePossession'].apply(preprocess_age_possession)"
   ]
  },
  {
   "cell_type": "code",
   "execution_count": 176,
   "id": "d4e3619c",
   "metadata": {},
   "outputs": [
    {
     "data": {
      "text/plain": [
       "0     1.0\n",
       "1    10.0\n",
       "2     1.0\n",
       "3     5.0\n",
       "4     0.5\n",
       "Name: agePossession_processed, dtype: float64"
      ]
     },
     "execution_count": 176,
     "metadata": {},
     "output_type": "execute_result"
    }
   ],
   "source": [
    "df['agePossession_processed'].head()"
   ]
  },
  {
   "cell_type": "code",
   "execution_count": 177,
   "id": "fe1a2afd",
   "metadata": {},
   "outputs": [
    {
     "data": {
      "text/html": [
       "<div>\n",
       "<style scoped>\n",
       "    .dataframe tbody tr th:only-of-type {\n",
       "        vertical-align: middle;\n",
       "    }\n",
       "\n",
       "    .dataframe tbody tr th {\n",
       "        vertical-align: top;\n",
       "    }\n",
       "\n",
       "    .dataframe thead th {\n",
       "        text-align: right;\n",
       "    }\n",
       "</style>\n",
       "<table border=\"1\" class=\"dataframe\">\n",
       "  <thead>\n",
       "    <tr style=\"text-align: right;\">\n",
       "      <th></th>\n",
       "      <th>price</th>\n",
       "      <th>rate</th>\n",
       "      <th>bedRoom</th>\n",
       "      <th>bathroom</th>\n",
       "      <th>balcony</th>\n",
       "      <th>noOfFloor</th>\n",
       "      <th>facing</th>\n",
       "      <th>agePossession_processed</th>\n",
       "      <th>area_sqft</th>\n",
       "      <th>Environment</th>\n",
       "      <th>Lifestyle</th>\n",
       "      <th>Connectivity</th>\n",
       "      <th>Safety</th>\n",
       "      <th>avg_rating</th>\n",
       "    </tr>\n",
       "  </thead>\n",
       "  <tbody>\n",
       "    <tr>\n",
       "      <th>0</th>\n",
       "      <td>52500000.0</td>\n",
       "      <td>20115.0</td>\n",
       "      <td>5</td>\n",
       "      <td>4</td>\n",
       "      <td>3.0</td>\n",
       "      <td>3</td>\n",
       "      <td>North-East</td>\n",
       "      <td>1.0</td>\n",
       "      <td>2604.8638</td>\n",
       "      <td>5.000000</td>\n",
       "      <td>4.000000</td>\n",
       "      <td>4.000000</td>\n",
       "      <td>4.000000</td>\n",
       "      <td>4.250000</td>\n",
       "    </tr>\n",
       "    <tr>\n",
       "      <th>1</th>\n",
       "      <td>57000000.0</td>\n",
       "      <td>105751.0</td>\n",
       "      <td>5</td>\n",
       "      <td>4</td>\n",
       "      <td>2.0</td>\n",
       "      <td>2</td>\n",
       "      <td>Missing</td>\n",
       "      <td>10.0</td>\n",
       "      <td>538.1950</td>\n",
       "      <td>4.274531</td>\n",
       "      <td>4.340684</td>\n",
       "      <td>4.535832</td>\n",
       "      <td>4.228225</td>\n",
       "      <td>4.344818</td>\n",
       "    </tr>\n",
       "    <tr>\n",
       "      <th>2</th>\n",
       "      <td>21000000.0</td>\n",
       "      <td>38251.0</td>\n",
       "      <td>10</td>\n",
       "      <td>10</td>\n",
       "      <td>3.0</td>\n",
       "      <td>5</td>\n",
       "      <td>West</td>\n",
       "      <td>1.0</td>\n",
       "      <td>548.9589</td>\n",
       "      <td>5.000000</td>\n",
       "      <td>5.000000</td>\n",
       "      <td>5.000000</td>\n",
       "      <td>5.000000</td>\n",
       "      <td>5.000000</td>\n",
       "    </tr>\n",
       "    <tr>\n",
       "      <th>3</th>\n",
       "      <td>50000000.0</td>\n",
       "      <td>43066.0</td>\n",
       "      <td>21</td>\n",
       "      <td>21</td>\n",
       "      <td>3.0</td>\n",
       "      <td>5</td>\n",
       "      <td>North</td>\n",
       "      <td>5.0</td>\n",
       "      <td>1162.5012</td>\n",
       "      <td>4.000000</td>\n",
       "      <td>5.000000</td>\n",
       "      <td>4.000000</td>\n",
       "      <td>4.000000</td>\n",
       "      <td>4.250000</td>\n",
       "    </tr>\n",
       "    <tr>\n",
       "      <th>4</th>\n",
       "      <td>30000000.0</td>\n",
       "      <td>53763.0</td>\n",
       "      <td>12</td>\n",
       "      <td>12</td>\n",
       "      <td>3.0</td>\n",
       "      <td>5</td>\n",
       "      <td>West</td>\n",
       "      <td>0.5</td>\n",
       "      <td>559.7228</td>\n",
       "      <td>5.000000</td>\n",
       "      <td>5.000000</td>\n",
       "      <td>5.000000</td>\n",
       "      <td>5.000000</td>\n",
       "      <td>5.000000</td>\n",
       "    </tr>\n",
       "  </tbody>\n",
       "</table>\n",
       "</div>"
      ],
      "text/plain": [
       "        price      rate  bedRoom  bathroom  balcony  noOfFloor      facing  \\\n",
       "0  52500000.0   20115.0        5         4      3.0          3  North-East   \n",
       "1  57000000.0  105751.0        5         4      2.0          2     Missing   \n",
       "2  21000000.0   38251.0       10        10      3.0          5        West   \n",
       "3  50000000.0   43066.0       21        21      3.0          5       North   \n",
       "4  30000000.0   53763.0       12        12      3.0          5        West   \n",
       "\n",
       "   agePossession_processed  area_sqft  Environment  Lifestyle  Connectivity  \\\n",
       "0                      1.0  2604.8638     5.000000   4.000000      4.000000   \n",
       "1                     10.0   538.1950     4.274531   4.340684      4.535832   \n",
       "2                      1.0   548.9589     5.000000   5.000000      5.000000   \n",
       "3                      5.0  1162.5012     4.000000   5.000000      4.000000   \n",
       "4                      0.5   559.7228     5.000000   5.000000      5.000000   \n",
       "\n",
       "     Safety  avg_rating  \n",
       "0  4.000000    4.250000  \n",
       "1  4.228225    4.344818  \n",
       "2  5.000000    5.000000  \n",
       "3  4.000000    4.250000  \n",
       "4  5.000000    5.000000  "
      ]
     },
     "execution_count": 177,
     "metadata": {},
     "output_type": "execute_result"
    }
   ],
   "source": [
    "selected_columns = ['price','rate','bedRoom','bathroom','balcony','noOfFloor','facing','agePossession_processed','area_sqft','Environment','Lifestyle','Connectivity','Safety','avg_rating']\n",
    "\n",
    "df[selected_columns].head()"
   ]
  },
  {
   "cell_type": "code",
   "execution_count": 178,
   "id": "dc0d247f",
   "metadata": {},
   "outputs": [
    {
     "name": "stdout",
     "output_type": "stream",
     "text": [
      "<class 'pandas.core.frame.DataFrame'>\n",
      "RangeIndex: 1044 entries, 0 to 1043\n",
      "Data columns (total 14 columns):\n",
      " #   Column                   Non-Null Count  Dtype  \n",
      "---  ------                   --------------  -----  \n",
      " 0   price                    1044 non-null   float64\n",
      " 1   rate                     1044 non-null   float64\n",
      " 2   bedRoom                  1044 non-null   Int64  \n",
      " 3   bathroom                 1044 non-null   Int64  \n",
      " 4   balcony                  1044 non-null   float64\n",
      " 5   noOfFloor                1044 non-null   Int64  \n",
      " 6   facing                   1044 non-null   object \n",
      " 7   agePossession_processed  891 non-null    float64\n",
      " 8   area_sqft                1044 non-null   float64\n",
      " 9   Environment              1044 non-null   float64\n",
      " 10  Lifestyle                1044 non-null   float64\n",
      " 11  Connectivity             1044 non-null   float64\n",
      " 12  Safety                   1044 non-null   float64\n",
      " 13  avg_rating               1044 non-null   float64\n",
      "dtypes: Int64(3), float64(10), object(1)\n",
      "memory usage: 117.4+ KB\n"
     ]
    }
   ],
   "source": [
    "df[selected_columns].info()"
   ]
  },
  {
   "cell_type": "code",
   "execution_count": 179,
   "id": "c4857c43",
   "metadata": {},
   "outputs": [],
   "source": [
    "df['agePossession_processed'] = df['agePossession_processed'].fillna(df['agePossession_processed'].mean())"
   ]
  },
  {
   "cell_type": "code",
   "execution_count": 180,
   "id": "b2285a70",
   "metadata": {},
   "outputs": [
    {
     "name": "stdout",
     "output_type": "stream",
     "text": [
      "<class 'pandas.core.frame.DataFrame'>\n",
      "RangeIndex: 1044 entries, 0 to 1043\n",
      "Data columns (total 14 columns):\n",
      " #   Column                   Non-Null Count  Dtype  \n",
      "---  ------                   --------------  -----  \n",
      " 0   price                    1044 non-null   float64\n",
      " 1   rate                     1044 non-null   float64\n",
      " 2   bedRoom                  1044 non-null   Int64  \n",
      " 3   bathroom                 1044 non-null   Int64  \n",
      " 4   balcony                  1044 non-null   float64\n",
      " 5   noOfFloor                1044 non-null   Int64  \n",
      " 6   facing                   1044 non-null   object \n",
      " 7   agePossession_processed  1044 non-null   float64\n",
      " 8   area_sqft                1044 non-null   float64\n",
      " 9   Environment              1044 non-null   float64\n",
      " 10  Lifestyle                1044 non-null   float64\n",
      " 11  Connectivity             1044 non-null   float64\n",
      " 12  Safety                   1044 non-null   float64\n",
      " 13  avg_rating               1044 non-null   float64\n",
      "dtypes: Int64(3), float64(10), object(1)\n",
      "memory usage: 117.4+ KB\n"
     ]
    }
   ],
   "source": [
    "df[selected_columns].info()"
   ]
  },
  {
   "cell_type": "code",
   "execution_count": 181,
   "id": "42d40d6e",
   "metadata": {},
   "outputs": [
    {
     "data": {
      "text/plain": [
       "price                      0\n",
       "rate                       0\n",
       "bedRoom                    0\n",
       "bathroom                   0\n",
       "balcony                    0\n",
       "noOfFloor                  0\n",
       "facing                     0\n",
       "agePossession_processed    0\n",
       "area_sqft                  0\n",
       "Environment                0\n",
       "Lifestyle                  0\n",
       "Connectivity               0\n",
       "Safety                     0\n",
       "avg_rating                 0\n",
       "dtype: int64"
      ]
     },
     "execution_count": 181,
     "metadata": {},
     "output_type": "execute_result"
    }
   ],
   "source": [
    "df[selected_columns].isnull().sum()"
   ]
  },
  {
   "cell_type": "code",
   "execution_count": null,
   "id": "2300f5bd",
   "metadata": {},
   "outputs": [],
   "source": [
    "import seaborn as sns\n",
    "import matplotlib.pyplot as plt\n",
    "\n",
    "num_cols = ['price', 'rate', 'bedRoom', 'bathroom', 'balcony',\n",
    "            'noOfFloor', 'agePossession_processed', 'area_sqft',\n",
    "            'Environment', 'Lifestyle', 'Connectivity', 'Safety', 'avg_rating']\n",
    "\n",
    "plt.figure(figsize=(15, 12))\n",
    "for i, col in enumerate(num_cols, 1):\n",
    "    plt.subplot(5, 3, i)\n",
    "    sns.histplot(df[col], kde=True, color='skyblue')\n",
    "    plt.title(f'Distribution of {col}')\n",
    "plt.tight_layout()\n",
    "plt.show()\n"
   ]
  },
  {
   "cell_type": "code",
   "execution_count": 196,
   "id": "666bb409",
   "metadata": {},
   "outputs": [
    {
     "data": {
      "image/png": "[encoded data removed]",
      "text/plain": [
       "<Figure size 700x700 with 1 Axes>"
      ]
     },
     "metadata": {},
     "output_type": "display_data"
    }
   ],
   "source": [
    "# Group by number of floors and sum the prices\n",
    "floor_price_sum = df.groupby('agePossession_processed')['rate'].sum()\n",
    "\n",
    "# Plot pie chart\n",
    "plt.figure(figsize=(7,7))\n",
    "plt.pie(floor_price_sum, \n",
    "        labels=floor_price_sum.index, \n",
    "        autopct='%1.1f%%', \n",
    "        startangle=90)\n",
    "plt.title('Share of Total Price by Number of Floors')\n",
    "plt.show()"
   ]
  },
  {
   "cell_type": "code",
   "execution_count": 198,
   "id": "f113e312",
   "metadata": {},
   "outputs": [],
   "source": [
    "df.to_csv('data/houes_cleaned_data.csv', index=False)"
   ]
  },
  {
   "cell_type": "code",
   "execution_count": null,
   "id": "b2cb9af0",
   "metadata": {},
   "outputs": [],
   "source": []
  }
 ],
 "metadata": {
  "kernelspec": {
   "display_name": "venv",
   "language": "python",
   "name": "python3"
  },
  "language_info": {
   "codemirror_mode": {
    "name": "ipython",
    "version": 3
   },
   "file_extension": ".py",
   "mimetype": "text/x-python",
   "name": "python",
   "nbconvert_exporter": "python",
   "pygments_lexer": "ipython3",
   "version": "3.13.5"
  }
 },
 "nbformat": 4,
 "nbformat_minor": 5
}
